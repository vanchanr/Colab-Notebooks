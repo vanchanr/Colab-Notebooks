{
  "nbformat": 4,
  "nbformat_minor": 0,
  "metadata": {
    "colab": {
      "name": "Untitled0.ipynb",
      "version": "0.3.2",
      "provenance": [],
      "include_colab_link": true
    },
    "kernelspec": {
      "name": "python3",
      "display_name": "Python 3"
    },
    "accelerator": "GPU"
  },
  "cells": [
    {
      "cell_type": "markdown",
      "metadata": {
        "id": "view-in-github",
        "colab_type": "text"
      },
      "source": [
        "[View in Colaboratory](https://colab.research.google.com/github/vanchanr/Colab-Notebooks/blob/master/numpy.ipynb)"
      ]
    },
    {
      "metadata": {
        "id": "XUxm-H5H7_yY",
        "colab_type": "code",
        "colab": {}
      },
      "cell_type": "code",
      "source": [
        "import numpy as np"
      ],
      "execution_count": 0,
      "outputs": []
    },
    {
      "metadata": {
        "id": "4f6puVsc-AcG",
        "colab_type": "code",
        "colab": {
          "base_uri": "https://localhost:8080/",
          "height": 153
        },
        "outputId": "629cc517-471b-4d4b-ab5b-e6c66fe0a268"
      },
      "cell_type": "code",
      "source": [
        "#numpy ndarray\n",
        "data = [[2, 3, 6, 7, 8],\n",
        "        [4, 89, 87, 67, 7],\n",
        "        [1, 2, 3, 4, 5]]\n",
        "\n",
        "data = np.array(data)\n",
        "print(data)\n",
        "print(data.shape)\n",
        "print(np.ones((2, 3)))\n",
        "print(np.zeros((2, 3), int))"
      ],
      "execution_count": 67,
      "outputs": [
        {
          "output_type": "stream",
          "text": [
            "[[ 2  3  6  7  8]\n",
            " [ 4 89 87 67  7]\n",
            " [ 1  2  3  4  5]]\n",
            "(3, 5)\n",
            "[[1. 1. 1.]\n",
            " [1. 1. 1.]]\n",
            "[[0 0 0]\n",
            " [0 0 0]]\n"
          ],
          "name": "stdout"
        }
      ]
    },
    {
      "metadata": {
        "id": "agie0gHV-iUS",
        "colab_type": "code",
        "colab": {
          "base_uri": "https://localhost:8080/",
          "height": 68
        },
        "outputId": "09d9891f-4ab3-43a5-c990-91086b139f0a"
      },
      "cell_type": "code",
      "source": [
        "x = np.arange(10)\n",
        "print(x)\n",
        "print(x[2:5])\n",
        "x[5:8] = 0\n",
        "print(x)"
      ],
      "execution_count": 68,
      "outputs": [
        {
          "output_type": "stream",
          "text": [
            "[0 1 2 3 4 5 6 7 8 9]\n",
            "[2 3 4]\n",
            "[0 1 2 3 4 0 0 0 8 9]\n"
          ],
          "name": "stdout"
        }
      ]
    },
    {
      "metadata": {
        "id": "53I2iVh2Bq11",
        "colab_type": "code",
        "colab": {
          "base_uri": "https://localhost:8080/",
          "height": 153
        },
        "collapsed": true,
        "outputId": "85bcf4cf-9fee-4901-a7bf-f2932cae7e58"
      },
      "cell_type": "code",
      "source": [
        "#Arithmetic operations\n",
        "A = np.array([[2, 4, 6],\n",
        "              [3, 6, 9]])\n",
        "print(A + 5)\n",
        "print(A - 3)\n",
        "print(A * A) #Square of every element. Not matrix multiplication\n",
        "print(10 * A)"
      ],
      "execution_count": 69,
      "outputs": [
        {
          "output_type": "stream",
          "text": [
            "[[ 7  9 11]\n",
            " [ 8 11 14]]\n",
            "[[-1  1  3]\n",
            " [ 0  3  6]]\n",
            "[[ 4 16 36]\n",
            " [ 9 36 81]]\n",
            "[[20 40 60]\n",
            " [30 60 90]]\n"
          ],
          "name": "stdout"
        }
      ]
    },
    {
      "metadata": {
        "id": "fQOqtvnYDOF6",
        "colab_type": "code",
        "colab": {
          "base_uri": "https://localhost:8080/",
          "height": 153
        },
        "collapsed": true,
        "outputId": "9fb042aa-5c02-4b9d-a375-7afb4a56ff6d"
      },
      "cell_type": "code",
      "source": [
        "#reshape, transpose\n",
        "\n",
        "A = np.arange(16)\n",
        "A = A.reshape((4, 4))\n",
        "print(\"A=\", A)\n",
        "\n",
        "A_ = A.T\n",
        "print(\"A'=\", A_)"
      ],
      "execution_count": 70,
      "outputs": [
        {
          "output_type": "stream",
          "text": [
            "A= [[ 0  1  2  3]\n",
            " [ 4  5  6  7]\n",
            " [ 8  9 10 11]\n",
            " [12 13 14 15]]\n",
            "A'= [[ 0  4  8 12]\n",
            " [ 1  5  9 13]\n",
            " [ 2  6 10 14]\n",
            " [ 3  7 11 15]]\n"
          ],
          "name": "stdout"
        }
      ]
    },
    {
      "metadata": {
        "id": "oI1BLb8yEU8L",
        "colab_type": "code",
        "colab": {
          "base_uri": "https://localhost:8080/",
          "height": 51
        },
        "outputId": "53fc5dae-1e8d-4973-b364-9a1d82fd0286"
      },
      "cell_type": "code",
      "source": [
        "np.random?\n",
        "R = np.random.randn(2, 3) #normally distributed values with mean=0, variance=1\n",
        "#same as np.random.standard_normal((2,3))\n",
        "print(R)"
      ],
      "execution_count": 71,
      "outputs": [
        {
          "output_type": "stream",
          "text": [
            "[[ 0.57191585  0.34383057 -0.51841962]\n",
            " [-3.13471753 -1.61534098 -1.40314357]]\n"
          ],
          "name": "stdout"
        }
      ]
    },
    {
      "metadata": {
        "id": "QDd5VLlFE8D8",
        "colab_type": "code",
        "colab": {
          "base_uri": "https://localhost:8080/",
          "height": 68
        },
        "collapsed": true,
        "outputId": "27ef6a28-3696-49da-e7ed-4a63ca17175d"
      },
      "cell_type": "code",
      "source": [
        "#statistical methods\n",
        "data = np.random.randn(10, 10)\n",
        "print(data.mean())\n",
        "print(data.min())\n",
        "print(data.var())"
      ],
      "execution_count": 72,
      "outputs": [
        {
          "output_type": "stream",
          "text": [
            "0.14960064508837465\n",
            "-2.380180476128269\n",
            "0.9910184373177257\n"
          ],
          "name": "stdout"
        }
      ]
    },
    {
      "metadata": {
        "id": "er6EpFPfHkhz",
        "colab_type": "code",
        "colab": {
          "base_uri": "https://localhost:8080/",
          "height": 289
        },
        "outputId": "6360f33f-6f8b-477c-941f-ce449ebbee0d"
      },
      "cell_type": "code",
      "source": [
        "#Matrix class\n",
        "\n",
        "X = np.arange(10).reshape((2,5))\n",
        "Y = np.ones((5,2))\n",
        "print(\"X=\", X)\n",
        "print(\"Y=\", Y)\n",
        "#print(\"X * Y =\", X*Y) =>Error\n",
        "\n",
        "X = np.matrix(X)\n",
        "Y = np.matrix(Y)\n",
        "print(\"X=\", X)\n",
        "print(\"Y=\", Y)\n",
        "print(\"X * Y =\", X*Y) #Matrix Multiplication"
      ],
      "execution_count": 73,
      "outputs": [
        {
          "output_type": "stream",
          "text": [
            "X= [[0 1 2 3 4]\n",
            " [5 6 7 8 9]]\n",
            "Y= [[1. 1.]\n",
            " [1. 1.]\n",
            " [1. 1.]\n",
            " [1. 1.]\n",
            " [1. 1.]]\n",
            "X= [[0 1 2 3 4]\n",
            " [5 6 7 8 9]]\n",
            "Y= [[1. 1.]\n",
            " [1. 1.]\n",
            " [1. 1.]\n",
            " [1. 1.]\n",
            " [1. 1.]]\n",
            "X * Y = [[10. 10.]\n",
            " [35. 35.]]\n"
          ],
          "name": "stdout"
        }
      ]
    }
  ]
}